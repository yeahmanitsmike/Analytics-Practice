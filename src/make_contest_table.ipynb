{
 "cells": [
  {
   "cell_type": "code",
   "execution_count": null,
   "id": "9802ec61",
   "metadata": {},
   "outputs": [],
   "source": []
  },
  {
   "cell_type": "code",
   "execution_count": 5,
   "id": "2e92cc0b",
   "metadata": {},
   "outputs": [],
   "source": [
    "import pandas as pd\n",
    "import os\n",
    "\n",
    "root_dir = \"D:\\\\Home\\\\Documents\\\\Data Analysis Projects\\\\Analytics-Practice\\\\data\\\\\"\n",
    "in_files = [\n",
    "    \"2023_election.csv\",\n",
    "    \"2024_election.csv\",\n",
    "    \"2025_dupage_election_results.csv\"\n",
    "]\n",
    "out_file = \"contests.csv\""
   ]
  },
  {
   "cell_type": "code",
   "execution_count": null,
   "id": "99d2bf9c",
   "metadata": {},
   "outputs": [
    {
     "data": {
      "text/plain": [
       "['df0', 'df1', 'df2', 'listOdfs', 'df', 'df_cols']"
      ]
     },
     "execution_count": 20,
     "metadata": {},
     "output_type": "execute_result"
    }
   ],
   "source": [
    "listOdfs = []\n",
    "for i, fi in enumerate(in_files):\n",
    "    var_name = f\"df{i}\" \n",
    "    fi_loc = os.path.join(root_dir, fi)\n",
    "    locals()[var_name] = pd.read_csv(fi_loc)\n",
    "    listOdfs.append(locals()[var_name])\n",
    "\n",
    "[k for k in locals().keys() if 'df' in k]"
   ]
  },
  {
   "cell_type": "code",
   "execution_count": 24,
   "id": "e85ca65c",
   "metadata": {},
   "outputs": [
    {
     "data": {
      "text/plain": [
       "['ContestKey',\n",
       " 'ContestText',\n",
       " 'ContestVoteFor',\n",
       " 'ContestIsQuestion',\n",
       " 'ContestPrecinctsReporting',\n",
       " 'ContestPrecinctsReported']"
      ]
     },
     "execution_count": 24,
     "metadata": {},
     "output_type": "execute_result"
    }
   ],
   "source": [
    "target_cols = [col for col in df0.columns if 'Contest' in col]\n",
    "target_cols"
   ]
  },
  {
   "cell_type": "code",
   "execution_count": 30,
   "id": "0c226faa",
   "metadata": {},
   "outputs": [
    {
     "data": {
      "text/plain": [
       "{'ContestKey': 'int64',\n",
       " 'ContestText': 'object',\n",
       " 'ContestVoteFor': 'int64',\n",
       " 'ContestIsQuestion': 'bool',\n",
       " 'ContestPrecinctsReporting': 'int64',\n",
       " 'ContestPrecinctsReported': 'int64'}"
      ]
     },
     "execution_count": 30,
     "metadata": {},
     "output_type": "execute_result"
    }
   ],
   "source": [
    "contest_schema = [\n",
    "    col for col in target_cols\n",
    "]\n",
    "\n",
    "contest_schema = dict.fromkeys(contest_schema)\n",
    "\n",
    "contest_schema['ContestIsQuestion'] = 'bool'\n",
    "contest_schema['ContestKey'] = 'int64'\n",
    "contest_schema['ContestPrecinctsReported'] = 'int64'\n",
    "contest_schema['ContestPrecinctsReporting'] = 'int64'\n",
    "contest_schema['ContestText'] = 'object'\n",
    "contest_schema['ContestVoteFor'] = 'int64'\n",
    "\n",
    "contest_schema"
   ]
  },
  {
   "cell_type": "code",
   "execution_count": 45,
   "id": "25d2e948",
   "metadata": {},
   "outputs": [],
   "source": [
    "contest_df = pd.DataFrame(columns=contest_schema)"
   ]
  },
  {
   "cell_type": "code",
   "execution_count": 46,
   "id": "6398290c",
   "metadata": {},
   "outputs": [
    {
     "name": "stdout",
     "output_type": "stream",
     "text": [
      "(128234, 6)\n",
      "(128234, 6)\n",
      "(156008, 6)\n",
      "(284242, 6)\n",
      "(136352, 6)\n",
      "(420594, 6)\n"
     ]
    }
   ],
   "source": [
    "for df in listOdfs:\n",
    "    df = df[[k for k in contest_schema.keys()]]\n",
    "    contest_df = pd.concat([contest_df, df], ignore_index=True)\n",
    "    print(df.shape)\n",
    "    print(contest_df.shape)\n",
    "    "
   ]
  },
  {
   "cell_type": "code",
   "execution_count": 50,
   "id": "4a371293",
   "metadata": {},
   "outputs": [
    {
     "name": "stdout",
     "output_type": "stream",
     "text": [
      "(420594, 6)\n",
      "(651, 6)\n",
      "(672, 6)\n",
      "       ContestKey                                        ContestText  \\\n",
      "286102       6019  City of Aurora Ward 1 Unexpired 2 Year Alderpe...   \n",
      "286400       6030                  Village of Bartlett Village Clerk   \n",
      "279942       6180                  Wayne Township Prop Mental Health   \n",
      "294854       6200              Village of Hinsdale Village President   \n",
      "280902       6210               Winfield Township Prop Mental Health   \n",
      "295906       6230                  Village of Lemont Village Trustee   \n",
      "302764       6330                     Warrenville Ward 1 Alderperson   \n",
      "305584       6435  Village of Winfield Unexpired 2 Year Library T...   \n",
      "356292       8682  Oakbrook Terrace Unexpired 4 Year Park Commiss...   \n",
      "356716       8812     Wards Creek Unexpired 2 Year Park Commissioner   \n",
      "356728       8814     Wards Creek Unexpired 4 Year Park Commissioner   \n",
      "358634       8964       Wood Dale Unexpired 4 Year Park Commissioner   \n",
      "363666       9352       Bensenville Unexpired 4 Year Library Trustee   \n",
      "363782       9384      Fountaindale Unexpired 4 Year Library Trustee   \n",
      "388888      10051  Grade School 7 Unexpired 2 Year School Board M...   \n",
      "389602      10067  Grade School 13 Unexpired 2 Year School Board ...   \n",
      "390642      10079  Grade School 20 Unexpired 2 Year School Board ...   \n",
      "390978      10083  Grade School 25 Unexpired 2 Year School Board ...   \n",
      "394850      10123  Grade School 61 Unexpired 2 Year School Board ...   \n",
      "418004      11165       Village of Winfield Prop Cultural Activities   \n",
      "418124      11166  Village of Winfield Prop Bicycle and Pedestria...   \n",
      "\n",
      "       ContestVoteFor ContestIsQuestion ContestPrecinctsReporting  \\\n",
      "286102              1             False                         2   \n",
      "286400              1             False                        19   \n",
      "279942            1.0             False                        43   \n",
      "294854              1             False                        14   \n",
      "280902            1.0             False                        27   \n",
      "295906              3             False                         1   \n",
      "302764              1             False                         8   \n",
      "305584              1             False                        12   \n",
      "356292              1             False                         6   \n",
      "356716              0             False                         2   \n",
      "356728              2             False                         2   \n",
      "358634              0             False                        10   \n",
      "363666              0             False                        16   \n",
      "363782              1             False                         2   \n",
      "388888              1             False                         9   \n",
      "389602              1             False                        17   \n",
      "390642              1             False                        14   \n",
      "390978              1             False                        10   \n",
      "394850              3             False                        15   \n",
      "418004              1             False                        12   \n",
      "418124              1             False                        12   \n",
      "\n",
      "       ContestPrecinctsReported  \n",
      "286102                        2  \n",
      "286400                       19  \n",
      "279942                       43  \n",
      "294854                       14  \n",
      "280902                       27  \n",
      "295906                        1  \n",
      "302764                        8  \n",
      "305584                       12  \n",
      "356292                        6  \n",
      "356716                        2  \n",
      "356728                        2  \n",
      "358634                       10  \n",
      "363666                       16  \n",
      "363782                        2  \n",
      "388888                        9  \n",
      "389602                       17  \n",
      "390642                       14  \n",
      "390978                       10  \n",
      "394850                       15  \n",
      "418004                       12  \n",
      "418124                       12  \n"
     ]
    }
   ],
   "source": [
    "contest_df_1 = contest_df.drop_duplicates('ContestKey')\n",
    "contest_df_2 = contest_df.drop_duplicates()\n",
    "print(contest_df.shape)\n",
    "print(contest_df_1.shape)\n",
    "print(contest_df_2.shape)\n",
    "print(pd.concat([contest_df_1, contest_df_2]).drop_duplicates(keep=False).sort_values(by='ContestKey'))"
   ]
  },
  {
   "cell_type": "code",
   "execution_count": null,
   "id": "9f12fdab",
   "metadata": {},
   "outputs": [
    {
     "ename": "",
     "evalue": "",
     "output_type": "error",
     "traceback": [
      "\u001b[1;31mThe Kernel crashed while executing code in the current cell or a previous cell. \n",
      "\u001b[1;31mPlease review the code in the cell(s) to identify a possible cause of the failure. \n",
      "\u001b[1;31mClick <a href='https://aka.ms/vscodeJupyterKernelCrash'>here</a> for more info. \n",
      "\u001b[1;31mView Jupyter <a href='command:jupyter.viewOutput'>log</a> for further details."
     ]
    }
   ],
   "source": [
    "out_file = os.path.join(root_dir, out_file)\n",
    "contest_df_1.to_csv(out_file)"
   ]
  }
 ],
 "metadata": {
  "kernelspec": {
   "display_name": ".venv",
   "language": "python",
   "name": "python3"
  },
  "language_info": {
   "codemirror_mode": {
    "name": "ipython",
    "version": 3
   },
   "file_extension": ".py",
   "mimetype": "text/x-python",
   "name": "python",
   "nbconvert_exporter": "python",
   "pygments_lexer": "ipython3",
   "version": "3.12.10"
  }
 },
 "nbformat": 4,
 "nbformat_minor": 5
}

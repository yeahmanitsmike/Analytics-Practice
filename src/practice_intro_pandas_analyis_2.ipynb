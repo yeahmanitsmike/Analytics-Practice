{
 "cells": [
  {
   "cell_type": "code",
   "execution_count": 32,
   "metadata": {},
   "outputs": [],
   "source": [
    "import pandas as pd\n",
    "import matplotlib as plt\n",
    "import seaborn as sns\n",
    "\n",
    "f_path = \"/home/mike-rob/Development/Analytic_Dev/data/Vendor_Payments.csv\"\n",
    "\n",
    "df = pd.read_csv(f_path)"
   ]
  },
  {
   "cell_type": "code",
   "execution_count": 33,
   "metadata": {},
   "outputs": [
    {
     "name": "stdout",
     "output_type": "stream",
     "text": [
      "<class 'pandas.core.frame.DataFrame'>\n",
      "RangeIndex: 130456 entries, 0 to 130455\n",
      "Data columns (total 30 columns):\n",
      " #   Column                  Non-Null Count   Dtype  \n",
      "---  ------                  --------------   -----  \n",
      " 0   Fiscal_Year             130456 non-null  int64  \n",
      " 1   Fiscal_Period           130456 non-null  int64  \n",
      " 2   Invoice_Status          130456 non-null  object \n",
      " 3   Vendor_ID               130456 non-null  int64  \n",
      " 4   Vendor_Name             130456 non-null  object \n",
      " 5   Check_Number            130456 non-null  int64  \n",
      " 6   Payment_Amount          130456 non-null  float64\n",
      " 7   Check_Date              130456 non-null  object \n",
      " 8   Invoice_Number          130456 non-null  int64  \n",
      " 9   invoice_date            130456 non-null  object \n",
      " 10  Line_Item_Desc          130456 non-null  object \n",
      " 11  Purch_Order_No          130456 non-null  object \n",
      " 12  Org_Code                130456 non-null  int64  \n",
      " 13  Org_Description         130456 non-null  object \n",
      " 14  Object_Code             130456 non-null  int64  \n",
      " 15  Object_Description      130456 non-null  object \n",
      " 16  Payment_Type            130456 non-null  object \n",
      " 17  Payment_Status          130456 non-null  object \n",
      " 18  Fund_Code               130456 non-null  int64  \n",
      " 19  Fund                    130456 non-null  object \n",
      " 20  Function_Code           130456 non-null  int64  \n",
      " 21  Function_               130456 non-null  object \n",
      " 22  Department_Code         130456 non-null  int64  \n",
      " 23  Department              0 non-null       float64\n",
      " 24  Division_Code           130456 non-null  int64  \n",
      " 25  Division                130456 non-null  object \n",
      " 26  Payment_ID              130456 non-null  object \n",
      " 27  Department_No           130456 non-null  object \n",
      " 28  Department_Description  0 non-null       float64\n",
      " 29  OBJECTID                130456 non-null  int64  \n",
      "dtypes: float64(3), int64(12), object(15)\n",
      "memory usage: 29.9+ MB\n"
     ]
    }
   ],
   "source": [
    "df.info()"
   ]
  },
  {
   "cell_type": "code",
   "execution_count": 34,
   "metadata": {},
   "outputs": [
    {
     "data": {
      "text/html": [
       "<div>\n",
       "<style scoped>\n",
       "    .dataframe tbody tr th:only-of-type {\n",
       "        vertical-align: middle;\n",
       "    }\n",
       "\n",
       "    .dataframe tbody tr th {\n",
       "        vertical-align: top;\n",
       "    }\n",
       "\n",
       "    .dataframe thead th {\n",
       "        text-align: right;\n",
       "    }\n",
       "</style>\n",
       "<table border=\"1\" class=\"dataframe\">\n",
       "  <thead>\n",
       "    <tr style=\"text-align: right;\">\n",
       "      <th></th>\n",
       "      <th>Fiscal_Year</th>\n",
       "      <th>Fiscal_Period</th>\n",
       "      <th>Invoice_Status</th>\n",
       "      <th>Vendor_ID</th>\n",
       "      <th>Vendor_Name</th>\n",
       "      <th>Check_Number</th>\n",
       "      <th>Payment_Amount</th>\n",
       "      <th>Check_Date</th>\n",
       "      <th>Invoice_Number</th>\n",
       "      <th>invoice_date</th>\n",
       "      <th>...</th>\n",
       "      <th>Function_Code</th>\n",
       "      <th>Function_</th>\n",
       "      <th>Department_Code</th>\n",
       "      <th>Department</th>\n",
       "      <th>Division_Code</th>\n",
       "      <th>Division</th>\n",
       "      <th>Payment_ID</th>\n",
       "      <th>Department_No</th>\n",
       "      <th>Department_Description</th>\n",
       "      <th>OBJECTID</th>\n",
       "    </tr>\n",
       "  </thead>\n",
       "  <tbody>\n",
       "    <tr>\n",
       "      <th>0</th>\n",
       "      <td>2023</td>\n",
       "      <td>12</td>\n",
       "      <td>Paid</td>\n",
       "      <td>17591</td>\n",
       "      <td>AMAZON.COM LLC</td>\n",
       "      <td>38575</td>\n",
       "      <td>-45.99</td>\n",
       "      <td>2023/12/31 00:00:00+00</td>\n",
       "      <td>210481</td>\n",
       "      <td>1900/01/01 00:00:00+00</td>\n",
       "      <td>...</td>\n",
       "      <td>210</td>\n",
       "      <td>WATER UTILITIES</td>\n",
       "      <td>41</td>\n",
       "      <td>NaN</td>\n",
       "      <td>115</td>\n",
       "      <td>OPERATIONS</td>\n",
       "      <td></td>\n",
       "      <td></td>\n",
       "      <td>NaN</td>\n",
       "      <td>1</td>\n",
       "    </tr>\n",
       "    <tr>\n",
       "      <th>1</th>\n",
       "      <td>2023</td>\n",
       "      <td>12</td>\n",
       "      <td>Paid</td>\n",
       "      <td>1751</td>\n",
       "      <td>ODP BUSINESS SOLUTIONS LLC</td>\n",
       "      <td>38601</td>\n",
       "      <td>-5.25</td>\n",
       "      <td>2023/12/31 00:00:00+00</td>\n",
       "      <td>210507</td>\n",
       "      <td>1900/01/01 00:00:00+00</td>\n",
       "      <td>...</td>\n",
       "      <td>210</td>\n",
       "      <td>WATER UTILITIES</td>\n",
       "      <td>41</td>\n",
       "      <td>NaN</td>\n",
       "      <td>115</td>\n",
       "      <td>OPERATIONS</td>\n",
       "      <td></td>\n",
       "      <td></td>\n",
       "      <td>NaN</td>\n",
       "      <td>2</td>\n",
       "    </tr>\n",
       "    <tr>\n",
       "      <th>2</th>\n",
       "      <td>2023</td>\n",
       "      <td>12</td>\n",
       "      <td>Paid</td>\n",
       "      <td>1105</td>\n",
       "      <td>CARDCONNECT</td>\n",
       "      <td>9012330</td>\n",
       "      <td>34.95</td>\n",
       "      <td>2023/12/05 00:00:00+00</td>\n",
       "      <td>210974</td>\n",
       "      <td>1900/01/01 00:00:00+00</td>\n",
       "      <td>...</td>\n",
       "      <td>220</td>\n",
       "      <td>COMMUTER PARKING</td>\n",
       "      <td>15</td>\n",
       "      <td>NaN</td>\n",
       "      <td>100</td>\n",
       "      <td>ADMINISTRATION</td>\n",
       "      <td></td>\n",
       "      <td></td>\n",
       "      <td>NaN</td>\n",
       "      <td>3</td>\n",
       "    </tr>\n",
       "    <tr>\n",
       "      <th>3</th>\n",
       "      <td>2023</td>\n",
       "      <td>12</td>\n",
       "      <td>Paid</td>\n",
       "      <td>1105</td>\n",
       "      <td>CARDCONNECT</td>\n",
       "      <td>9012331</td>\n",
       "      <td>40.90</td>\n",
       "      <td>2023/12/05 00:00:00+00</td>\n",
       "      <td>210977</td>\n",
       "      <td>1900/01/01 00:00:00+00</td>\n",
       "      <td>...</td>\n",
       "      <td>100</td>\n",
       "      <td>GENERAL GOVERNMENT</td>\n",
       "      <td>15</td>\n",
       "      <td>NaN</td>\n",
       "      <td>100</td>\n",
       "      <td>ADMINISTRATION</td>\n",
       "      <td></td>\n",
       "      <td></td>\n",
       "      <td>NaN</td>\n",
       "      <td>4</td>\n",
       "    </tr>\n",
       "    <tr>\n",
       "      <th>4</th>\n",
       "      <td>2024</td>\n",
       "      <td>1</td>\n",
       "      <td>Paid</td>\n",
       "      <td>2181</td>\n",
       "      <td>BEARY LANDSCAPE MANAGEMENT INC</td>\n",
       "      <td>708502</td>\n",
       "      <td>1200.00</td>\n",
       "      <td>2024/01/09 00:00:00+00</td>\n",
       "      <td>210207</td>\n",
       "      <td>1900/01/01 00:00:00+00</td>\n",
       "      <td>...</td>\n",
       "      <td>100</td>\n",
       "      <td>GENERAL GOVERNMENT</td>\n",
       "      <td>31</td>\n",
       "      <td>NaN</td>\n",
       "      <td>115</td>\n",
       "      <td>OPERATIONS</td>\n",
       "      <td></td>\n",
       "      <td></td>\n",
       "      <td>NaN</td>\n",
       "      <td>5</td>\n",
       "    </tr>\n",
       "  </tbody>\n",
       "</table>\n",
       "<p>5 rows × 30 columns</p>\n",
       "</div>"
      ],
      "text/plain": [
       "   Fiscal_Year  Fiscal_Period Invoice_Status  Vendor_ID  \\\n",
       "0         2023             12           Paid      17591   \n",
       "1         2023             12           Paid       1751   \n",
       "2         2023             12           Paid       1105   \n",
       "3         2023             12           Paid       1105   \n",
       "4         2024              1           Paid       2181   \n",
       "\n",
       "                      Vendor_Name  Check_Number  Payment_Amount  \\\n",
       "0                  AMAZON.COM LLC         38575          -45.99   \n",
       "1      ODP BUSINESS SOLUTIONS LLC         38601           -5.25   \n",
       "2                     CARDCONNECT       9012330           34.95   \n",
       "3                     CARDCONNECT       9012331           40.90   \n",
       "4  BEARY LANDSCAPE MANAGEMENT INC        708502         1200.00   \n",
       "\n",
       "               Check_Date  Invoice_Number            invoice_date  ...  \\\n",
       "0  2023/12/31 00:00:00+00          210481  1900/01/01 00:00:00+00  ...   \n",
       "1  2023/12/31 00:00:00+00          210507  1900/01/01 00:00:00+00  ...   \n",
       "2  2023/12/05 00:00:00+00          210974  1900/01/01 00:00:00+00  ...   \n",
       "3  2023/12/05 00:00:00+00          210977  1900/01/01 00:00:00+00  ...   \n",
       "4  2024/01/09 00:00:00+00          210207  1900/01/01 00:00:00+00  ...   \n",
       "\n",
       "  Function_Code           Function_  Department_Code Department  \\\n",
       "0           210     WATER UTILITIES               41        NaN   \n",
       "1           210     WATER UTILITIES               41        NaN   \n",
       "2           220    COMMUTER PARKING               15        NaN   \n",
       "3           100  GENERAL GOVERNMENT               15        NaN   \n",
       "4           100  GENERAL GOVERNMENT               31        NaN   \n",
       "\n",
       "   Division_Code        Division Payment_ID Department_No  \\\n",
       "0            115      OPERATIONS                            \n",
       "1            115      OPERATIONS                            \n",
       "2            100  ADMINISTRATION                            \n",
       "3            100  ADMINISTRATION                            \n",
       "4            115      OPERATIONS                            \n",
       "\n",
       "   Department_Description OBJECTID  \n",
       "0                     NaN        1  \n",
       "1                     NaN        2  \n",
       "2                     NaN        3  \n",
       "3                     NaN        4  \n",
       "4                     NaN        5  \n",
       "\n",
       "[5 rows x 30 columns]"
      ]
     },
     "execution_count": 34,
     "metadata": {},
     "output_type": "execute_result"
    }
   ],
   "source": [
    "df.head()"
   ]
  },
  {
   "cell_type": "code",
   "execution_count": 35,
   "metadata": {},
   "outputs": [],
   "source": [
    "df = df.drop(columns=['Department','Department_Description'])"
   ]
  },
  {
   "cell_type": "code",
   "execution_count": 36,
   "metadata": {},
   "outputs": [
    {
     "name": "stdout",
     "output_type": "stream",
     "text": [
      "<class 'pandas.core.frame.DataFrame'>\n",
      "RangeIndex: 130456 entries, 0 to 130455\n",
      "Data columns (total 28 columns):\n",
      " #   Column              Non-Null Count   Dtype  \n",
      "---  ------              --------------   -----  \n",
      " 0   Fiscal_Year         130456 non-null  int64  \n",
      " 1   Fiscal_Period       130456 non-null  int64  \n",
      " 2   Invoice_Status      130456 non-null  object \n",
      " 3   Vendor_ID           130456 non-null  int64  \n",
      " 4   Vendor_Name         130456 non-null  object \n",
      " 5   Check_Number        130456 non-null  int64  \n",
      " 6   Payment_Amount      130456 non-null  float64\n",
      " 7   Check_Date          130456 non-null  object \n",
      " 8   Invoice_Number      130456 non-null  int64  \n",
      " 9   invoice_date        130456 non-null  object \n",
      " 10  Line_Item_Desc      130456 non-null  object \n",
      " 11  Purch_Order_No      130456 non-null  object \n",
      " 12  Org_Code            130456 non-null  int64  \n",
      " 13  Org_Description     130456 non-null  object \n",
      " 14  Object_Code         130456 non-null  int64  \n",
      " 15  Object_Description  130456 non-null  object \n",
      " 16  Payment_Type        130456 non-null  object \n",
      " 17  Payment_Status      130456 non-null  object \n",
      " 18  Fund_Code           130456 non-null  int64  \n",
      " 19  Fund                130456 non-null  object \n",
      " 20  Function_Code       130456 non-null  int64  \n",
      " 21  Function_           130456 non-null  object \n",
      " 22  Department_Code     130456 non-null  int64  \n",
      " 23  Division_Code       130456 non-null  int64  \n",
      " 24  Division            130456 non-null  object \n",
      " 25  Payment_ID          130456 non-null  object \n",
      " 26  Department_No       130456 non-null  object \n",
      " 27  OBJECTID            130456 non-null  int64  \n",
      "dtypes: float64(1), int64(12), object(15)\n",
      "memory usage: 27.9+ MB\n"
     ]
    }
   ],
   "source": [
    "df.info()"
   ]
  },
  {
   "cell_type": "code",
   "execution_count": 37,
   "metadata": {},
   "outputs": [
    {
     "name": "stdout",
     "output_type": "stream",
     "text": [
      "count=3\n"
     ]
    }
   ],
   "source": [
    "count=0\n",
    "for col in df.columns:\n",
    "    if 'ID' in col:\n",
    "        df = df.drop(columns=col)\n",
    "        count+=1\n",
    "\n",
    "print(f\"{count=}\")"
   ]
  },
  {
   "cell_type": "code",
   "execution_count": 38,
   "metadata": {},
   "outputs": [
    {
     "name": "stdout",
     "output_type": "stream",
     "text": [
      "count=6\n"
     ]
    }
   ],
   "source": [
    "count=0\n",
    "for col in df.columns:\n",
    "    if 'Code' in col:\n",
    "        df = df.drop(columns=col)\n",
    "        count+=1\n",
    "\n",
    "print(f\"{count=}\")"
   ]
  },
  {
   "cell_type": "code",
   "execution_count": 91,
   "metadata": {},
   "outputs": [],
   "source": [
    "df['Function_'] = df['Function']"
   ]
  },
  {
   "cell_type": "code",
   "execution_count": 96,
   "metadata": {},
   "outputs": [
    {
     "ename": "AttributeError",
     "evalue": "'NoneType' object has no attribute 'columns'",
     "output_type": "error",
     "traceback": [
      "\u001b[31m---------------------------------------------------------------------------\u001b[39m",
      "\u001b[31mAttributeError\u001b[39m                            Traceback (most recent call last)",
      "\u001b[36mCell\u001b[39m\u001b[36m \u001b[39m\u001b[32mIn[96]\u001b[39m\u001b[32m, line 3\u001b[39m\n\u001b[32m      1\u001b[39m count=\u001b[32m0\u001b[39m\n\u001b[32m      2\u001b[39m rename_cols = {}\n\u001b[32m----> \u001b[39m\u001b[32m3\u001b[39m \u001b[38;5;28;01mfor\u001b[39;00m col \u001b[38;5;129;01min\u001b[39;00m \u001b[43mdf\u001b[49m\u001b[43m.\u001b[49m\u001b[43mcolumns\u001b[49m:\n\u001b[32m      4\u001b[39m     \u001b[38;5;28;01mif\u001b[39;00m col.endswith(\u001b[33m'\u001b[39m\u001b[33m_\u001b[39m\u001b[33m'\u001b[39m):\n\u001b[32m      5\u001b[39m         rename_cols[col] = col.rstrip(\u001b[33m'\u001b[39m\u001b[33m_\u001b[39m\u001b[33m'\u001b[39m)\n",
      "\u001b[31mAttributeError\u001b[39m: 'NoneType' object has no attribute 'columns'"
     ]
    }
   ],
   "source": [
    "count=0\n",
    "rename_cols = {}\n",
    "for col in df.columns:\n",
    "    if col.endswith('_'):\n",
    "        rename_cols[col] = col.rstrip('_')\n",
    "        count+=1\n",
    "        print(f\"{rename_cols}\")\n",
    "\n",
    "df.rename(rename_cols, inplace=True)\n",
    "print(f\"{count=}\")\n"
   ]
  },
  {
   "cell_type": "code",
   "execution_count": 87,
   "metadata": {},
   "outputs": [],
   "source": [
    "df['Function'] = df['Function_']\n",
    "df = df.drop(columns='Function_')"
   ]
  },
  {
   "cell_type": "code",
   "execution_count": 88,
   "metadata": {},
   "outputs": [
    {
     "data": {
      "text/plain": [
       "17817       GENERAL GOVERNMENT\n",
       "23526         ELECTRIC UTILITY\n",
       "110149        LIBRARY SERVICES\n",
       "108514               UNDEFINED\n",
       "122216      GENERAL GOVERNMENT\n",
       "109039               UNDEFINED\n",
       "4953        GENERAL GOVERNMENT\n",
       "10754     PHYSICAL ENVIRONMENT\n",
       "124318           PUBLIC SAFETY\n",
       "38274         ELECTRIC UTILITY\n",
       "60441            PUBLIC SAFETY\n",
       "19587     PHYSICAL ENVIRONMENT\n",
       "Name: Function, dtype: object"
      ]
     },
     "execution_count": 88,
     "metadata": {},
     "output_type": "execute_result"
    }
   ],
   "source": [
    "df['Function'].sample(12)"
   ]
  },
  {
   "cell_type": "code",
   "execution_count": 95,
   "metadata": {},
   "outputs": [
    {
     "ename": "AttributeError",
     "evalue": "'NoneType' object has no attribute 'info'",
     "output_type": "error",
     "traceback": [
      "\u001b[31m---------------------------------------------------------------------------\u001b[39m",
      "\u001b[31mAttributeError\u001b[39m                            Traceback (most recent call last)",
      "\u001b[36mCell\u001b[39m\u001b[36m \u001b[39m\u001b[32mIn[95]\u001b[39m\u001b[32m, line 1\u001b[39m\n\u001b[32m----> \u001b[39m\u001b[32m1\u001b[39m \u001b[43mdf\u001b[49m\u001b[43m.\u001b[49m\u001b[43minfo\u001b[49m()\n",
      "\u001b[31mAttributeError\u001b[39m: 'NoneType' object has no attribute 'info'"
     ]
    }
   ],
   "source": [
    "df.info()"
   ]
  }
 ],
 "metadata": {
  "kernelspec": {
   "display_name": "venv",
   "language": "python",
   "name": "python3"
  },
  "language_info": {
   "codemirror_mode": {
    "name": "ipython",
    "version": 3
   },
   "file_extension": ".py",
   "mimetype": "text/x-python",
   "name": "python",
   "nbconvert_exporter": "python",
   "pygments_lexer": "ipython3",
   "version": "3.12.3"
  }
 },
 "nbformat": 4,
 "nbformat_minor": 2
}

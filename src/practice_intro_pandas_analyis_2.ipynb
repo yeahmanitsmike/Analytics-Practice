{
 "cells": [
  {
   "cell_type": "code",
   "execution_count": 1,
   "metadata": {},
   "outputs": [],
   "source": [
    "import pandas as pd\n",
    "import matplotlib as plt\n",
    "import seaborn as sns\n",
    "\n",
    "f_path = \"/home/mike-rob/Development/Analytic_Dev/data/Vendor_Payments.csv\"\n",
    "\n",
    "df = pd.read_csv(f_path)"
   ]
  },
  {
   "cell_type": "code",
   "execution_count": 2,
   "metadata": {},
   "outputs": [
    {
     "name": "stdout",
     "output_type": "stream",
     "text": [
      "<class 'pandas.core.frame.DataFrame'>\n",
      "RangeIndex: 130456 entries, 0 to 130455\n",
      "Data columns (total 30 columns):\n",
      " #   Column                  Non-Null Count   Dtype  \n",
      "---  ------                  --------------   -----  \n",
      " 0   Fiscal_Year             130456 non-null  int64  \n",
      " 1   Fiscal_Period           130456 non-null  int64  \n",
      " 2   Invoice_Status          130456 non-null  object \n",
      " 3   Vendor_ID               130456 non-null  int64  \n",
      " 4   Vendor_Name             130456 non-null  object \n",
      " 5   Check_Number            130456 non-null  int64  \n",
      " 6   Payment_Amount          130456 non-null  float64\n",
      " 7   Check_Date              130456 non-null  object \n",
      " 8   Invoice_Number          130456 non-null  int64  \n",
      " 9   invoice_date            130456 non-null  object \n",
      " 10  Line_Item_Desc          130456 non-null  object \n",
      " 11  Purch_Order_No          130456 non-null  object \n",
      " 12  Org_Code                130456 non-null  int64  \n",
      " 13  Org_Description         130456 non-null  object \n",
      " 14  Object_Code             130456 non-null  int64  \n",
      " 15  Object_Description      130456 non-null  object \n",
      " 16  Payment_Type            130456 non-null  object \n",
      " 17  Payment_Status          130456 non-null  object \n",
      " 18  Fund_Code               130456 non-null  int64  \n",
      " 19  Fund                    130456 non-null  object \n",
      " 20  Function_Code           130456 non-null  int64  \n",
      " 21  Function_               130456 non-null  object \n",
      " 22  Department_Code         130456 non-null  int64  \n",
      " 23  Department              0 non-null       float64\n",
      " 24  Division_Code           130456 non-null  int64  \n",
      " 25  Division                130456 non-null  object \n",
      " 26  Payment_ID              130456 non-null  object \n",
      " 27  Department_No           130456 non-null  object \n",
      " 28  Department_Description  0 non-null       float64\n",
      " 29  OBJECTID                130456 non-null  int64  \n",
      "dtypes: float64(3), int64(12), object(15)\n",
      "memory usage: 29.9+ MB\n"
     ]
    }
   ],
   "source": [
    "df.info()"
   ]
  },
  {
   "cell_type": "code",
   "execution_count": 4,
   "metadata": {},
   "outputs": [],
   "source": [
    "df = df.drop(columns=['Department','Department_Description'])"
   ]
  },
  {
   "cell_type": "code",
   "execution_count": 5,
   "metadata": {},
   "outputs": [
    {
     "name": "stdout",
     "output_type": "stream",
     "text": [
      "<class 'pandas.core.frame.DataFrame'>\n",
      "RangeIndex: 130456 entries, 0 to 130455\n",
      "Data columns (total 28 columns):\n",
      " #   Column              Non-Null Count   Dtype  \n",
      "---  ------              --------------   -----  \n",
      " 0   Fiscal_Year         130456 non-null  int64  \n",
      " 1   Fiscal_Period       130456 non-null  int64  \n",
      " 2   Invoice_Status      130456 non-null  object \n",
      " 3   Vendor_ID           130456 non-null  int64  \n",
      " 4   Vendor_Name         130456 non-null  object \n",
      " 5   Check_Number        130456 non-null  int64  \n",
      " 6   Payment_Amount      130456 non-null  float64\n",
      " 7   Check_Date          130456 non-null  object \n",
      " 8   Invoice_Number      130456 non-null  int64  \n",
      " 9   invoice_date        130456 non-null  object \n",
      " 10  Line_Item_Desc      130456 non-null  object \n",
      " 11  Purch_Order_No      130456 non-null  object \n",
      " 12  Org_Code            130456 non-null  int64  \n",
      " 13  Org_Description     130456 non-null  object \n",
      " 14  Object_Code         130456 non-null  int64  \n",
      " 15  Object_Description  130456 non-null  object \n",
      " 16  Payment_Type        130456 non-null  object \n",
      " 17  Payment_Status      130456 non-null  object \n",
      " 18  Fund_Code           130456 non-null  int64  \n",
      " 19  Fund                130456 non-null  object \n",
      " 20  Function_Code       130456 non-null  int64  \n",
      " 21  Function_           130456 non-null  object \n",
      " 22  Department_Code     130456 non-null  int64  \n",
      " 23  Division_Code       130456 non-null  int64  \n",
      " 24  Division            130456 non-null  object \n",
      " 25  Payment_ID          130456 non-null  object \n",
      " 26  Department_No       130456 non-null  object \n",
      " 27  OBJECTID            130456 non-null  int64  \n",
      "dtypes: float64(1), int64(12), object(15)\n",
      "memory usage: 27.9+ MB\n"
     ]
    }
   ],
   "source": [
    "df.info()"
   ]
  },
  {
   "cell_type": "code",
   "execution_count": 6,
   "metadata": {},
   "outputs": [
    {
     "name": "stdout",
     "output_type": "stream",
     "text": [
      "count=3\n"
     ]
    }
   ],
   "source": [
    "count=0\n",
    "for col in df.columns:\n",
    "    if 'ID' in col:\n",
    "        df = df.drop(columns=col)\n",
    "        count+=1\n",
    "\n",
    "print(f\"{count=}\")"
   ]
  },
  {
   "cell_type": "code",
   "execution_count": 7,
   "metadata": {},
   "outputs": [
    {
     "name": "stdout",
     "output_type": "stream",
     "text": [
      "count=6\n"
     ]
    }
   ],
   "source": [
    "count=0\n",
    "for col in df.columns:\n",
    "    if 'Code' in col:\n",
    "        df = df.drop(columns=col)\n",
    "        count+=1\n",
    "\n",
    "print(f\"{count=}\")"
   ]
  },
  {
   "cell_type": "code",
   "execution_count": 11,
   "metadata": {},
   "outputs": [
    {
     "name": "stdout",
     "output_type": "stream",
     "text": [
      "count=0\n"
     ]
    }
   ],
   "source": [
    "count=0\n",
    "rename_cols = {}\n",
    "for col in df.columns:\n",
    "    if col.endswith('_'):\n",
    "        rename_cols[col] = col.rstrip('_')\n",
    "        count+=1\n",
    "        print(f\"{rename_cols}\")\n",
    "\n",
    "df.rename(rename_cols, inplace=True)\n",
    "print(f\"{count=}\")\n"
   ]
  },
  {
   "cell_type": "code",
   "execution_count": 12,
   "metadata": {},
   "outputs": [
    {
     "ename": "KeyError",
     "evalue": "'Function_'",
     "output_type": "error",
     "traceback": [
      "\u001b[31m---------------------------------------------------------------------------\u001b[39m",
      "\u001b[31mKeyError\u001b[39m                                  Traceback (most recent call last)",
      "\u001b[36mFile \u001b[39m\u001b[32m~/Development/Analytic_Dev/venv/lib/python3.12/site-packages/pandas/core/indexes/base.py:3805\u001b[39m, in \u001b[36mIndex.get_loc\u001b[39m\u001b[34m(self, key)\u001b[39m\n\u001b[32m   3804\u001b[39m \u001b[38;5;28;01mtry\u001b[39;00m:\n\u001b[32m-> \u001b[39m\u001b[32m3805\u001b[39m     \u001b[38;5;28;01mreturn\u001b[39;00m \u001b[38;5;28;43mself\u001b[39;49m\u001b[43m.\u001b[49m\u001b[43m_engine\u001b[49m\u001b[43m.\u001b[49m\u001b[43mget_loc\u001b[49m\u001b[43m(\u001b[49m\u001b[43mcasted_key\u001b[49m\u001b[43m)\u001b[49m\n\u001b[32m   3806\u001b[39m \u001b[38;5;28;01mexcept\u001b[39;00m \u001b[38;5;167;01mKeyError\u001b[39;00m \u001b[38;5;28;01mas\u001b[39;00m err:\n",
      "\u001b[36mFile \u001b[39m\u001b[32mindex.pyx:167\u001b[39m, in \u001b[36mpandas._libs.index.IndexEngine.get_loc\u001b[39m\u001b[34m()\u001b[39m\n",
      "\u001b[36mFile \u001b[39m\u001b[32mindex.pyx:196\u001b[39m, in \u001b[36mpandas._libs.index.IndexEngine.get_loc\u001b[39m\u001b[34m()\u001b[39m\n",
      "\u001b[36mFile \u001b[39m\u001b[32mpandas/_libs/hashtable_class_helper.pxi:7081\u001b[39m, in \u001b[36mpandas._libs.hashtable.PyObjectHashTable.get_item\u001b[39m\u001b[34m()\u001b[39m\n",
      "\u001b[36mFile \u001b[39m\u001b[32mpandas/_libs/hashtable_class_helper.pxi:7089\u001b[39m, in \u001b[36mpandas._libs.hashtable.PyObjectHashTable.get_item\u001b[39m\u001b[34m()\u001b[39m\n",
      "\u001b[31mKeyError\u001b[39m: 'Function_'",
      "\nThe above exception was the direct cause of the following exception:\n",
      "\u001b[31mKeyError\u001b[39m                                  Traceback (most recent call last)",
      "\u001b[36mCell\u001b[39m\u001b[36m \u001b[39m\u001b[32mIn[12]\u001b[39m\u001b[32m, line 1\u001b[39m\n\u001b[32m----> \u001b[39m\u001b[32m1\u001b[39m df[\u001b[33m'\u001b[39m\u001b[33mFunction\u001b[39m\u001b[33m'\u001b[39m] = \u001b[43mdf\u001b[49m\u001b[43m[\u001b[49m\u001b[33;43m'\u001b[39;49m\u001b[33;43mFunction_\u001b[39;49m\u001b[33;43m'\u001b[39;49m\u001b[43m]\u001b[49m\n\u001b[32m      2\u001b[39m df = df.drop(columns=\u001b[33m'\u001b[39m\u001b[33mFunction_\u001b[39m\u001b[33m'\u001b[39m)\n",
      "\u001b[36mFile \u001b[39m\u001b[32m~/Development/Analytic_Dev/venv/lib/python3.12/site-packages/pandas/core/frame.py:4102\u001b[39m, in \u001b[36mDataFrame.__getitem__\u001b[39m\u001b[34m(self, key)\u001b[39m\n\u001b[32m   4100\u001b[39m \u001b[38;5;28;01mif\u001b[39;00m \u001b[38;5;28mself\u001b[39m.columns.nlevels > \u001b[32m1\u001b[39m:\n\u001b[32m   4101\u001b[39m     \u001b[38;5;28;01mreturn\u001b[39;00m \u001b[38;5;28mself\u001b[39m._getitem_multilevel(key)\n\u001b[32m-> \u001b[39m\u001b[32m4102\u001b[39m indexer = \u001b[38;5;28;43mself\u001b[39;49m\u001b[43m.\u001b[49m\u001b[43mcolumns\u001b[49m\u001b[43m.\u001b[49m\u001b[43mget_loc\u001b[49m\u001b[43m(\u001b[49m\u001b[43mkey\u001b[49m\u001b[43m)\u001b[49m\n\u001b[32m   4103\u001b[39m \u001b[38;5;28;01mif\u001b[39;00m is_integer(indexer):\n\u001b[32m   4104\u001b[39m     indexer = [indexer]\n",
      "\u001b[36mFile \u001b[39m\u001b[32m~/Development/Analytic_Dev/venv/lib/python3.12/site-packages/pandas/core/indexes/base.py:3812\u001b[39m, in \u001b[36mIndex.get_loc\u001b[39m\u001b[34m(self, key)\u001b[39m\n\u001b[32m   3807\u001b[39m     \u001b[38;5;28;01mif\u001b[39;00m \u001b[38;5;28misinstance\u001b[39m(casted_key, \u001b[38;5;28mslice\u001b[39m) \u001b[38;5;129;01mor\u001b[39;00m (\n\u001b[32m   3808\u001b[39m         \u001b[38;5;28misinstance\u001b[39m(casted_key, abc.Iterable)\n\u001b[32m   3809\u001b[39m         \u001b[38;5;129;01mand\u001b[39;00m \u001b[38;5;28many\u001b[39m(\u001b[38;5;28misinstance\u001b[39m(x, \u001b[38;5;28mslice\u001b[39m) \u001b[38;5;28;01mfor\u001b[39;00m x \u001b[38;5;129;01min\u001b[39;00m casted_key)\n\u001b[32m   3810\u001b[39m     ):\n\u001b[32m   3811\u001b[39m         \u001b[38;5;28;01mraise\u001b[39;00m InvalidIndexError(key)\n\u001b[32m-> \u001b[39m\u001b[32m3812\u001b[39m     \u001b[38;5;28;01mraise\u001b[39;00m \u001b[38;5;167;01mKeyError\u001b[39;00m(key) \u001b[38;5;28;01mfrom\u001b[39;00m\u001b[38;5;250m \u001b[39m\u001b[34;01merr\u001b[39;00m\n\u001b[32m   3813\u001b[39m \u001b[38;5;28;01mexcept\u001b[39;00m \u001b[38;5;167;01mTypeError\u001b[39;00m:\n\u001b[32m   3814\u001b[39m     \u001b[38;5;66;03m# If we have a listlike key, _check_indexing_error will raise\u001b[39;00m\n\u001b[32m   3815\u001b[39m     \u001b[38;5;66;03m#  InvalidIndexError. Otherwise we fall through and re-raise\u001b[39;00m\n\u001b[32m   3816\u001b[39m     \u001b[38;5;66;03m#  the TypeError.\u001b[39;00m\n\u001b[32m   3817\u001b[39m     \u001b[38;5;28mself\u001b[39m._check_indexing_error(key)\n",
      "\u001b[31mKeyError\u001b[39m: 'Function_'"
     ]
    }
   ],
   "source": [
    "df['Function'] = df['Function_']\n",
    "df = df.drop(columns='Function_')"
   ]
  },
  {
   "cell_type": "code",
   "execution_count": 25,
   "metadata": {},
   "outputs": [
    {
     "data": {
      "text/plain": [
       "31754            PUBLIC SAFETY\n",
       "24696          WATER UTILITIES\n",
       "100171           PUBLIC SAFETY\n",
       "129415       INTERNAL SERVICES\n",
       "78518         ELECTRIC UTILITY\n",
       "30904       GENERAL GOVERNMENT\n",
       "1587          ELECTRIC UTILITY\n",
       "98379       GENERAL GOVERNMENT\n",
       "61193                UNDEFINED\n",
       "28872       GENERAL GOVERNMENT\n",
       "85713     PHYSICAL ENVIRONMENT\n",
       "4793           WATER UTILITIES\n",
       "Name: Function, dtype: object"
      ]
     },
     "execution_count": 25,
     "metadata": {},
     "output_type": "execute_result"
    }
   ],
   "source": [
    "df['Function'].sample(12)"
   ]
  },
  {
   "cell_type": "code",
   "execution_count": 24,
   "metadata": {},
   "outputs": [
    {
     "name": "stdout",
     "output_type": "stream",
     "text": [
      "<class 'pandas.core.frame.DataFrame'>\n",
      "Index: 130456 entries, 0 to 130455\n",
      "Data columns (total 19 columns):\n",
      " #   Column              Non-Null Count   Dtype  \n",
      "---  ------              --------------   -----  \n",
      " 0   Fiscal_Year         130456 non-null  int64  \n",
      " 1   Fiscal_Period       130456 non-null  int64  \n",
      " 2   Invoice_Status      130456 non-null  object \n",
      " 3   Vendor_Name         130456 non-null  object \n",
      " 4   Check_Number        130456 non-null  int64  \n",
      " 5   Payment_Amount      130456 non-null  float64\n",
      " 6   Check_Date          130456 non-null  object \n",
      " 7   Invoice_Number      130456 non-null  int64  \n",
      " 8   invoice_date        130456 non-null  object \n",
      " 9   Line_Item_Desc      130456 non-null  object \n",
      " 10  Purch_Order_No      130456 non-null  object \n",
      " 11  Org_Description     130456 non-null  object \n",
      " 12  Object_Description  130456 non-null  object \n",
      " 13  Payment_Type        130456 non-null  object \n",
      " 14  Payment_Status      130456 non-null  object \n",
      " 15  Fund                130456 non-null  object \n",
      " 16  Division            130456 non-null  object \n",
      " 17  Department_No       130456 non-null  object \n",
      " 18  Function            130456 non-null  object \n",
      "dtypes: float64(1), int64(4), object(14)\n",
      "memory usage: 19.9+ MB\n"
     ]
    }
   ],
   "source": [
    "df.info()"
   ]
  },
  {
   "cell_type": "code",
   "execution_count": 32,
   "metadata": {},
   "outputs": [
    {
     "data": {
      "text/plain": [
       "Fiscal_Year                4\n",
       "Fiscal_Period             12\n",
       "Invoice_Status             3\n",
       "Vendor_Name             2179\n",
       "Check_Number           58025\n",
       "Payment_Amount         57700\n",
       "Check_Date              1030\n",
       "Invoice_Number        119862\n",
       "Line_Item_Desc         43746\n",
       "Org_Description          196\n",
       "Object_Description       183\n",
       "Fund                      30\n",
       "Division                  32\n",
       "Function                  12\n",
       "dtype: int64"
      ]
     },
     "execution_count": 32,
     "metadata": {},
     "output_type": "execute_result"
    }
   ],
   "source": [
    "df.nunique()"
   ]
  },
  {
   "cell_type": "code",
   "execution_count": 31,
   "metadata": {},
   "outputs": [],
   "source": [
    "for col in df.columns:\n",
    "    if df[col].nunique() < 2:\n",
    "        df = df.drop(columns=col)"
   ]
  }
 ],
 "metadata": {
  "kernelspec": {
   "display_name": "venv",
   "language": "python",
   "name": "python3"
  },
  "language_info": {
   "codemirror_mode": {
    "name": "ipython",
    "version": 3
   },
   "file_extension": ".py",
   "mimetype": "text/x-python",
   "name": "python",
   "nbconvert_exporter": "python",
   "pygments_lexer": "ipython3",
   "version": "3.12.3"
  }
 },
 "nbformat": 4,
 "nbformat_minor": 2
}

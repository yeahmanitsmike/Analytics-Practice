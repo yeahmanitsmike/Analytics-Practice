{
 "cells": [
  {
   "cell_type": "code",
   "execution_count": 1,
   "metadata": {},
   "outputs": [],
   "source": [
    "import pandas as pd\n",
    "import matplotlib as plt\n",
    "import seaborn as sns\n",
    "\n",
    "f_path = \"/home/mike-rob/Development/Analytic_Dev/data/Vendor_Payments.csv\"\n",
    "\n",
    "df = pd.read_csv(f_path)"
   ]
  },
  {
   "cell_type": "code",
   "execution_count": 2,
   "metadata": {},
   "outputs": [
    {
     "name": "stdout",
     "output_type": "stream",
     "text": [
      "<class 'pandas.core.frame.DataFrame'>\n",
      "RangeIndex: 130456 entries, 0 to 130455\n",
      "Data columns (total 30 columns):\n",
      " #   Column                  Non-Null Count   Dtype  \n",
      "---  ------                  --------------   -----  \n",
      " 0   Fiscal_Year             130456 non-null  int64  \n",
      " 1   Fiscal_Period           130456 non-null  int64  \n",
      " 2   Invoice_Status          130456 non-null  object \n",
      " 3   Vendor_ID               130456 non-null  int64  \n",
      " 4   Vendor_Name             130456 non-null  object \n",
      " 5   Check_Number            130456 non-null  int64  \n",
      " 6   Payment_Amount          130456 non-null  float64\n",
      " 7   Check_Date              130456 non-null  object \n",
      " 8   Invoice_Number          130456 non-null  int64  \n",
      " 9   invoice_date            130456 non-null  object \n",
      " 10  Line_Item_Desc          130456 non-null  object \n",
      " 11  Purch_Order_No          130456 non-null  object \n",
      " 12  Org_Code                130456 non-null  int64  \n",
      " 13  Org_Description         130456 non-null  object \n",
      " 14  Object_Code             130456 non-null  int64  \n",
      " 15  Object_Description      130456 non-null  object \n",
      " 16  Payment_Type            130456 non-null  object \n",
      " 17  Payment_Status          130456 non-null  object \n",
      " 18  Fund_Code               130456 non-null  int64  \n",
      " 19  Fund                    130456 non-null  object \n",
      " 20  Function_Code           130456 non-null  int64  \n",
      " 21  Function_               130456 non-null  object \n",
      " 22  Department_Code         130456 non-null  int64  \n",
      " 23  Department              0 non-null       float64\n",
      " 24  Division_Code           130456 non-null  int64  \n",
      " 25  Division                130456 non-null  object \n",
      " 26  Payment_ID              130456 non-null  object \n",
      " 27  Department_No           130456 non-null  object \n",
      " 28  Department_Description  0 non-null       float64\n",
      " 29  OBJECTID                130456 non-null  int64  \n",
      "dtypes: float64(3), int64(12), object(15)\n",
      "memory usage: 29.9+ MB\n"
     ]
    }
   ],
   "source": [
    "df.info()"
   ]
  },
  {
   "cell_type": "code",
   "execution_count": 3,
   "metadata": {},
   "outputs": [],
   "source": [
    "df = df.drop(columns=['Department','Department_Description'])"
   ]
  },
  {
   "cell_type": "code",
   "execution_count": 4,
   "metadata": {},
   "outputs": [
    {
     "name": "stdout",
     "output_type": "stream",
     "text": [
      "<class 'pandas.core.frame.DataFrame'>\n",
      "RangeIndex: 130456 entries, 0 to 130455\n",
      "Data columns (total 28 columns):\n",
      " #   Column              Non-Null Count   Dtype  \n",
      "---  ------              --------------   -----  \n",
      " 0   Fiscal_Year         130456 non-null  int64  \n",
      " 1   Fiscal_Period       130456 non-null  int64  \n",
      " 2   Invoice_Status      130456 non-null  object \n",
      " 3   Vendor_ID           130456 non-null  int64  \n",
      " 4   Vendor_Name         130456 non-null  object \n",
      " 5   Check_Number        130456 non-null  int64  \n",
      " 6   Payment_Amount      130456 non-null  float64\n",
      " 7   Check_Date          130456 non-null  object \n",
      " 8   Invoice_Number      130456 non-null  int64  \n",
      " 9   invoice_date        130456 non-null  object \n",
      " 10  Line_Item_Desc      130456 non-null  object \n",
      " 11  Purch_Order_No      130456 non-null  object \n",
      " 12  Org_Code            130456 non-null  int64  \n",
      " 13  Org_Description     130456 non-null  object \n",
      " 14  Object_Code         130456 non-null  int64  \n",
      " 15  Object_Description  130456 non-null  object \n",
      " 16  Payment_Type        130456 non-null  object \n",
      " 17  Payment_Status      130456 non-null  object \n",
      " 18  Fund_Code           130456 non-null  int64  \n",
      " 19  Fund                130456 non-null  object \n",
      " 20  Function_Code       130456 non-null  int64  \n",
      " 21  Function_           130456 non-null  object \n",
      " 22  Department_Code     130456 non-null  int64  \n",
      " 23  Division_Code       130456 non-null  int64  \n",
      " 24  Division            130456 non-null  object \n",
      " 25  Payment_ID          130456 non-null  object \n",
      " 26  Department_No       130456 non-null  object \n",
      " 27  OBJECTID            130456 non-null  int64  \n",
      "dtypes: float64(1), int64(12), object(15)\n",
      "memory usage: 27.9+ MB\n"
     ]
    }
   ],
   "source": [
    "df.info()"
   ]
  },
  {
   "cell_type": "code",
   "execution_count": 5,
   "metadata": {},
   "outputs": [
    {
     "name": "stdout",
     "output_type": "stream",
     "text": [
      "count=3\n"
     ]
    }
   ],
   "source": [
    "count=0\n",
    "for col in df.columns:\n",
    "    if 'ID' in col:\n",
    "        df = df.drop(columns=col)\n",
    "        count+=1\n",
    "\n",
    "print(f\"{count=}\")"
   ]
  },
  {
   "cell_type": "code",
   "execution_count": 6,
   "metadata": {},
   "outputs": [
    {
     "name": "stdout",
     "output_type": "stream",
     "text": [
      "count=6\n"
     ]
    }
   ],
   "source": [
    "count=0\n",
    "for col in df.columns:\n",
    "    if 'Code' in col:\n",
    "        df = df.drop(columns=col)\n",
    "        count+=1\n",
    "\n",
    "print(f\"{count=}\")"
   ]
  },
  {
   "cell_type": "code",
   "execution_count": 7,
   "metadata": {},
   "outputs": [
    {
     "name": "stdout",
     "output_type": "stream",
     "text": [
      "{'Function_': 'Function'}\n",
      "count=1\n"
     ]
    }
   ],
   "source": [
    "count=0\n",
    "rename_cols = {}\n",
    "for col in df.columns:\n",
    "    if col.endswith('_'):\n",
    "        rename_cols[col] = col.rstrip('_')\n",
    "        count+=1\n",
    "        print(f\"{rename_cols}\")\n",
    "\n",
    "df.rename(rename_cols, inplace=True)\n",
    "print(f\"{count=}\")\n"
   ]
  },
  {
   "cell_type": "code",
   "execution_count": 8,
   "metadata": {},
   "outputs": [],
   "source": [
    "df['Function'] = df['Function_']\n",
    "df = df.drop(columns='Function_')"
   ]
  },
  {
   "cell_type": "code",
   "execution_count": 9,
   "metadata": {},
   "outputs": [
    {
     "data": {
      "text/plain": [
       "115612             UNDEFINED\n",
       "16594     GENERAL GOVERNMENT\n",
       "30517     GENERAL GOVERNMENT\n",
       "103951       WATER UTILITIES\n",
       "17688     GENERAL GOVERNMENT\n",
       "71887     GENERAL GOVERNMENT\n",
       "35391       ELECTRIC UTILITY\n",
       "84214          PUBLIC SAFETY\n",
       "126238    GENERAL GOVERNMENT\n",
       "18079     GENERAL GOVERNMENT\n",
       "17594     GENERAL GOVERNMENT\n",
       "27363              UNDEFINED\n",
       "Name: Function, dtype: object"
      ]
     },
     "execution_count": 9,
     "metadata": {},
     "output_type": "execute_result"
    }
   ],
   "source": [
    "df['Function'].sample(12)"
   ]
  },
  {
   "cell_type": "code",
   "execution_count": 10,
   "metadata": {},
   "outputs": [
    {
     "name": "stdout",
     "output_type": "stream",
     "text": [
      "<class 'pandas.core.frame.DataFrame'>\n",
      "Index: 130456 entries, 0 to 130455\n",
      "Data columns (total 19 columns):\n",
      " #   Column              Non-Null Count   Dtype  \n",
      "---  ------              --------------   -----  \n",
      " 0   Fiscal_Year         130456 non-null  int64  \n",
      " 1   Fiscal_Period       130456 non-null  int64  \n",
      " 2   Invoice_Status      130456 non-null  object \n",
      " 3   Vendor_Name         130456 non-null  object \n",
      " 4   Check_Number        130456 non-null  int64  \n",
      " 5   Payment_Amount      130456 non-null  float64\n",
      " 6   Check_Date          130456 non-null  object \n",
      " 7   Invoice_Number      130456 non-null  int64  \n",
      " 8   invoice_date        130456 non-null  object \n",
      " 9   Line_Item_Desc      130456 non-null  object \n",
      " 10  Purch_Order_No      130456 non-null  object \n",
      " 11  Org_Description     130456 non-null  object \n",
      " 12  Object_Description  130456 non-null  object \n",
      " 13  Payment_Type        130456 non-null  object \n",
      " 14  Payment_Status      130456 non-null  object \n",
      " 15  Fund                130456 non-null  object \n",
      " 16  Division            130456 non-null  object \n",
      " 17  Department_No       130456 non-null  object \n",
      " 18  Function            130456 non-null  object \n",
      "dtypes: float64(1), int64(4), object(14)\n",
      "memory usage: 19.9+ MB\n"
     ]
    }
   ],
   "source": [
    "df.info()"
   ]
  },
  {
   "cell_type": "code",
   "execution_count": 11,
   "metadata": {},
   "outputs": [
    {
     "data": {
      "text/plain": [
       "Fiscal_Year                4\n",
       "Fiscal_Period             12\n",
       "Invoice_Status             3\n",
       "Vendor_Name             2179\n",
       "Check_Number           58025\n",
       "Payment_Amount         57700\n",
       "Check_Date              1030\n",
       "Invoice_Number        119862\n",
       "invoice_date               1\n",
       "Line_Item_Desc         43746\n",
       "Purch_Order_No             1\n",
       "Org_Description          196\n",
       "Object_Description       183\n",
       "Payment_Type               1\n",
       "Payment_Status             1\n",
       "Fund                      30\n",
       "Division                  32\n",
       "Department_No              1\n",
       "Function                  12\n",
       "dtype: int64"
      ]
     },
     "execution_count": 11,
     "metadata": {},
     "output_type": "execute_result"
    }
   ],
   "source": [
    "df.nunique()"
   ]
  },
  {
   "cell_type": "code",
   "execution_count": 12,
   "metadata": {},
   "outputs": [],
   "source": [
    "for col in df.columns:\n",
    "    if df[col].nunique() < 2:\n",
    "        df = df.drop(columns=col)\n",
    "    "
   ]
  },
  {
   "cell_type": "code",
   "execution_count": 13,
   "metadata": {},
   "outputs": [
    {
     "name": "stdout",
     "output_type": "stream",
     "text": [
      "<class 'pandas.core.frame.DataFrame'>\n",
      "Index: 130456 entries, 0 to 130455\n",
      "Data columns (total 14 columns):\n",
      " #   Column              Non-Null Count   Dtype  \n",
      "---  ------              --------------   -----  \n",
      " 0   Fiscal_Year         130456 non-null  int64  \n",
      " 1   Fiscal_Period       130456 non-null  int64  \n",
      " 2   Invoice_Status      130456 non-null  object \n",
      " 3   Vendor_Name         130456 non-null  object \n",
      " 4   Check_Number        130456 non-null  int64  \n",
      " 5   Payment_Amount      130456 non-null  float64\n",
      " 6   Check_Date          130456 non-null  object \n",
      " 7   Invoice_Number      130456 non-null  int64  \n",
      " 8   Line_Item_Desc      130456 non-null  object \n",
      " 9   Org_Description     130456 non-null  object \n",
      " 10  Object_Description  130456 non-null  object \n",
      " 11  Fund                130456 non-null  object \n",
      " 12  Division            130456 non-null  object \n",
      " 13  Function            130456 non-null  object \n",
      "dtypes: float64(1), int64(4), object(9)\n",
      "memory usage: 14.9+ MB\n"
     ]
    }
   ],
   "source": [
    "df.info()"
   ]
  },
  {
   "cell_type": "code",
   "execution_count": 43,
   "metadata": {},
   "outputs": [
    {
     "data": {
      "text/plain": [
       "<seaborn.axisgrid.JointGrid at 0x7d7fecbec3e0>"
      ]
     },
     "execution_count": 43,
     "metadata": {},
     "output_type": "execute_result"
    },
    {
     "data": {
      "image/png": "[encoded data removed]",
      "text/plain": [
       "<Figure size 600x600 with 3 Axes>"
      ]
     },
     "metadata": {},
     "output_type": "display_data"
    }
   ],
   "source": [
    "df1 = df[['Function','Payment_Amount']]\n",
    "# sns.histplot(df1 ,bins=30)\n",
    "# sns.kdeplot(df1, shade=True)\n",
    "# sns.rugplot(df1)\n",
    "# sns.ecdfplot(df1)\n",
    "# sns.violinplot(x=df)\n",
    "# sns.boxplot(df1)\n",
    "sns.jointplot(df1['Payment_Amount'], kind='hex')"
   ]
  },
  {
   "cell_type": "code",
   "execution_count": null,
   "metadata": {},
   "outputs": [],
   "source": []
  }
 ],
 "metadata": {
  "kernelspec": {
   "display_name": "venv",
   "language": "python",
   "name": "python3"
  },
  "language_info": {
   "codemirror_mode": {
    "name": "ipython",
    "version": 3
   },
   "file_extension": ".py",
   "mimetype": "text/x-python",
   "name": "python",
   "nbconvert_exporter": "python",
   "pygments_lexer": "ipython3",
   "version": "3.12.3"
  }
 },
 "nbformat": 4,
 "nbformat_minor": 2
}

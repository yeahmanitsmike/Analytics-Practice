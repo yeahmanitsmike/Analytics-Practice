{
 "cells": [
  {
   "cell_type": "code",
   "execution_count": 40,
   "id": "143a5878",
   "metadata": {},
   "outputs": [],
   "source": [
    "import pandas as pd\n",
    "import seaborn as sns\n",
    "import matplotlib as plt\n",
    "import xmltodict\n",
    "import xml.etree.ElementTree as ET\n",
    "\n",
    "\n",
    "in_file = \"/home/mike-rob/Development/Analytic_Dev/data/detail.xml\"\n",
    "\n",
    "with open(in_file, \"r\", encoding=\"utf-8\") as file:\n",
    "    xmldata = file.read()\n",
    "\n",
    "xml_dict = xmltodict.parse(xmldata)"
   ]
  },
  {
   "cell_type": "code",
   "execution_count": null,
   "id": "3ac23d31",
   "metadata": {},
   "outputs": [],
   "source": [
    "aggs_df = pd.json_normalize(xml_dict['ElectionResult'])\n",
    "aggs_df.drop(columns=['Contest', 'VoterTurnout.Precincts.Precinct'])"
   ]
  },
  {
   "cell_type": "code",
   "execution_count": null,
   "id": "42e56554",
   "metadata": {},
   "outputs": [],
   "source": [
    "df = pd.json_normalize(xml_dict['ElectionResult']['VoterTurnout']['Precincts']['Precinct'])\n",
    "df.head()"
   ]
  },
  {
   "cell_type": "code",
   "execution_count": null,
   "id": "7d97650c",
   "metadata": {},
   "outputs": [],
   "source": [
    "df = pd.json_normalize(xml_dict['ElectionResult'])\n",
    "df.head()\n"
   ]
  },
  {
   "cell_type": "code",
   "execution_count": null,
   "id": "39bae827",
   "metadata": {},
   "outputs": [],
   "source": [
    "df = pd.json_normalize(xml_dict['ElectionResult']['Contest'])\n",
    "df.head()\n"
   ]
  },
  {
   "cell_type": "code",
   "execution_count": null,
   "id": "a78f06f5",
   "metadata": {},
   "outputs": [],
   "source": [
    "df = pd.json_normalize(xml_dict['ElectionResult']['Contest'][0])\n",
    "df.head()"
   ]
  },
  {
   "cell_type": "code",
   "execution_count": null,
   "id": "d678e48f",
   "metadata": {},
   "outputs": [],
   "source": [
    "tree = ET.parse(in_file)\n",
    "root = tree.getroot()\n",
    "\n",
    "for result in root.findall('ElectionResult'):\n",
    "    contest = result.find('Contest').text"
   ]
  }
 ],
 "metadata": {
  "kernelspec": {
   "display_name": "venv",
   "language": "python",
   "name": "python3"
  },
  "language_info": {
   "codemirror_mode": {
    "name": "ipython",
    "version": 3
   },
   "file_extension": ".py",
   "mimetype": "text/x-python",
   "name": "python",
   "nbconvert_exporter": "python",
   "pygments_lexer": "ipython3",
   "version": "3.12.3"
  }
 },
 "nbformat": 4,
 "nbformat_minor": 5
}

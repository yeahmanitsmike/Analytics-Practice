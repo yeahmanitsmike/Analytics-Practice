{
 "cells": [
  {
   "cell_type": "code",
   "execution_count": 161,
   "id": "27950c8c",
   "metadata": {},
   "outputs": [],
   "source": [
    "import pandas as pd\n",
    "import seaborn as sns\n",
    "import matplotlib as plt\n",
    "\n",
    "in_file = \"/home/mike-rob/Development/Analytic_Dev/data/2025_dupage_election_results.csv\"\n",
    "\n",
    "df = pd.read_csv(in_file, encoding='utf-8')"
   ]
  },
  {
   "cell_type": "code",
   "execution_count": 162,
   "id": "6ef83d8e",
   "metadata": {},
   "outputs": [
    {
     "data": {
      "text/plain": [
       "(5502, 11)"
      ]
     },
     "execution_count": 162,
     "metadata": {},
     "output_type": "execute_result"
    }
   ],
   "source": [
    "df.shape"
   ]
  },
  {
   "cell_type": "code",
   "execution_count": 163,
   "id": "dd9f1691",
   "metadata": {},
   "outputs": [
    {
     "data": {
      "text/plain": [
       "Index(['ContestKey', 'ContestText', 'ContestVoteFor', 'ContestIsQuestion',\n",
       "       'ContestPrecinctsReporting', 'ContestPrecinctsReported', 'Choice',\n",
       "       'VoteTypeName', 'VoteTypeTotalVotes', 'PrecinctName', 'PrecinctVotes'],\n",
       "      dtype='object')"
      ]
     },
     "execution_count": 163,
     "metadata": {},
     "output_type": "execute_result"
    }
   ],
   "source": [
    "df.columns"
   ]
  },
  {
   "cell_type": "code",
   "execution_count": 164,
   "id": "a58419e2",
   "metadata": {},
   "outputs": [
    {
     "data": {
      "text/html": [
       "<div>\n",
       "<style scoped>\n",
       "    .dataframe tbody tr th:only-of-type {\n",
       "        vertical-align: middle;\n",
       "    }\n",
       "\n",
       "    .dataframe tbody tr th {\n",
       "        vertical-align: top;\n",
       "    }\n",
       "\n",
       "    .dataframe thead th {\n",
       "        text-align: right;\n",
       "    }\n",
       "</style>\n",
       "<table border=\"1\" class=\"dataframe\">\n",
       "  <thead>\n",
       "    <tr style=\"text-align: right;\">\n",
       "      <th></th>\n",
       "      <th>ContestKey</th>\n",
       "      <th>ContestText</th>\n",
       "      <th>ContestVoteFor</th>\n",
       "      <th>ContestIsQuestion</th>\n",
       "      <th>ContestPrecinctsReporting</th>\n",
       "      <th>ContestPrecinctsReported</th>\n",
       "      <th>Choice</th>\n",
       "      <th>VoteTypeName</th>\n",
       "      <th>VoteTypeTotalVotes</th>\n",
       "      <th>PrecinctName</th>\n",
       "      <th>PrecinctVotes</th>\n",
       "    </tr>\n",
       "  </thead>\n",
       "  <tbody>\n",
       "    <tr>\n",
       "      <th>1641</th>\n",
       "      <td>7460</td>\n",
       "      <td>FOR TOWNSHIP CLERK</td>\n",
       "      <td>1</td>\n",
       "      <td>False</td>\n",
       "      <td>77</td>\n",
       "      <td>77</td>\n",
       "      <td>NaN</td>\n",
       "      <td>Overvotes</td>\n",
       "      <td>0</td>\n",
       "      <td>Lisle 067 - 0095</td>\n",
       "      <td>0</td>\n",
       "    </tr>\n",
       "    <tr>\n",
       "      <th>2097</th>\n",
       "      <td>7470</td>\n",
       "      <td>FOR TOWNSHIP ASSESSOR</td>\n",
       "      <td>0</td>\n",
       "      <td>False</td>\n",
       "      <td>77</td>\n",
       "      <td>77</td>\n",
       "      <td>NaN</td>\n",
       "      <td>Overvotes</td>\n",
       "      <td>0</td>\n",
       "      <td>Lisle 061 - 0089</td>\n",
       "      <td>0</td>\n",
       "    </tr>\n",
       "    <tr>\n",
       "      <th>4276</th>\n",
       "      <td>7490</td>\n",
       "      <td>FOR TOWNSHIP TRUSTEE</td>\n",
       "      <td>4</td>\n",
       "      <td>False</td>\n",
       "      <td>77</td>\n",
       "      <td>77</td>\n",
       "      <td>GERRY GALLOWAY</td>\n",
       "      <td>Early</td>\n",
       "      <td>240</td>\n",
       "      <td>Lisle 007 - 0035</td>\n",
       "      <td>1</td>\n",
       "    </tr>\n",
       "    <tr>\n",
       "      <th>4195</th>\n",
       "      <td>7490</td>\n",
       "      <td>FOR TOWNSHIP TRUSTEE</td>\n",
       "      <td>4</td>\n",
       "      <td>False</td>\n",
       "      <td>77</td>\n",
       "      <td>77</td>\n",
       "      <td>AUDREY BURRIS</td>\n",
       "      <td>Provisional</td>\n",
       "      <td>1</td>\n",
       "      <td>Lisle 003 - 0031</td>\n",
       "      <td>0</td>\n",
       "    </tr>\n",
       "    <tr>\n",
       "      <th>3822</th>\n",
       "      <td>7490</td>\n",
       "      <td>FOR TOWNSHIP TRUSTEE</td>\n",
       "      <td>4</td>\n",
       "      <td>False</td>\n",
       "      <td>77</td>\n",
       "      <td>77</td>\n",
       "      <td>LISA ROSE</td>\n",
       "      <td>Polling</td>\n",
       "      <td>458</td>\n",
       "      <td>Lisle 015 - 0043</td>\n",
       "      <td>0</td>\n",
       "    </tr>\n",
       "  </tbody>\n",
       "</table>\n",
       "</div>"
      ],
      "text/plain": [
       "      ContestKey            ContestText  ContestVoteFor  ContestIsQuestion  \\\n",
       "1641        7460     FOR TOWNSHIP CLERK               1              False   \n",
       "2097        7470  FOR TOWNSHIP ASSESSOR               0              False   \n",
       "4276        7490   FOR TOWNSHIP TRUSTEE               4              False   \n",
       "4195        7490   FOR TOWNSHIP TRUSTEE               4              False   \n",
       "3822        7490   FOR TOWNSHIP TRUSTEE               4              False   \n",
       "\n",
       "      ContestPrecinctsReporting  ContestPrecinctsReported          Choice  \\\n",
       "1641                         77                        77             NaN   \n",
       "2097                         77                        77             NaN   \n",
       "4276                         77                        77  GERRY GALLOWAY   \n",
       "4195                         77                        77   AUDREY BURRIS   \n",
       "3822                         77                        77       LISA ROSE   \n",
       "\n",
       "     VoteTypeName  VoteTypeTotalVotes      PrecinctName  PrecinctVotes  \n",
       "1641    Overvotes                   0  Lisle 067 - 0095              0  \n",
       "2097    Overvotes                   0  Lisle 061 - 0089              0  \n",
       "4276        Early                 240  Lisle 007 - 0035              1  \n",
       "4195  Provisional                   1  Lisle 003 - 0031              0  \n",
       "3822      Polling                 458  Lisle 015 - 0043              0  "
      ]
     },
     "execution_count": 164,
     "metadata": {},
     "output_type": "execute_result"
    }
   ],
   "source": [
    "df.sample(5)"
   ]
  },
  {
   "cell_type": "code",
   "execution_count": 165,
   "id": "ed7bcda7",
   "metadata": {},
   "outputs": [
    {
     "data": {
      "text/plain": [
       "ContestKey                    int64\n",
       "ContestText                  object\n",
       "ContestVoteFor                int64\n",
       "ContestIsQuestion              bool\n",
       "ContestPrecinctsReporting     int64\n",
       "ContestPrecinctsReported      int64\n",
       "Choice                       object\n",
       "VoteTypeName                 object\n",
       "VoteTypeTotalVotes            int64\n",
       "PrecinctName                 object\n",
       "PrecinctVotes                 int64\n",
       "dtype: object"
      ]
     },
     "execution_count": 165,
     "metadata": {},
     "output_type": "execute_result"
    }
   ],
   "source": [
    "df.dtypes"
   ]
  },
  {
   "cell_type": "code",
   "execution_count": 168,
   "id": "29977496",
   "metadata": {},
   "outputs": [
    {
     "data": {
      "text/plain": [
       "56"
      ]
     },
     "execution_count": 168,
     "metadata": {},
     "output_type": "execute_result"
    }
   ],
   "source": [
    "df['VoteTypeTotalVotes'].nunique()"
   ]
  },
  {
   "cell_type": "code",
   "execution_count": null,
   "id": "daa89c00",
   "metadata": {},
   "outputs": [
    {
     "data": {
      "text/plain": [
       "count    5502.000000\n",
       "mean        5.294257\n",
       "std         8.691595\n",
       "min         0.000000\n",
       "25%         0.000000\n",
       "50%         0.000000\n",
       "75%         8.000000\n",
       "max        66.000000\n",
       "Name: PrecinctVotes, dtype: float64"
      ]
     },
     "execution_count": 170,
     "metadata": {},
     "output_type": "execute_result"
    }
   ],
   "source": [
    "df['PrecinctVotes'].describe()"
   ]
  },
  {
   "cell_type": "code",
   "execution_count": 177,
   "id": "04db0d57",
   "metadata": {},
   "outputs": [
    {
     "name": "stdout",
     "output_type": "stream",
     "text": [
      "count    728.000000\n",
      "mean       4.750000\n",
      "std        9.011875\n",
      "min        0.000000\n",
      "25%        0.000000\n",
      "50%        0.000000\n",
      "75%        5.000000\n",
      "max       61.000000\n",
      "Name: PrecinctVotes, dtype: float64\n"
     ]
    },
    {
     "data": {
      "image/png": "[encoded data removed]",
      "text/plain": [
       "<Figure size 640x480 with 1 Axes>"
      ]
     },
     "metadata": {},
     "output_type": "display_data"
    }
   ],
   "source": [
    "sns.boxplot(df.query('ContestText == \"FOR MAYOR\"')['PrecinctVotes'])\n",
    "print(df.query('ContestText == \"FOR MAYOR\"')['PrecinctVotes'].describe())"
   ]
  },
  {
   "cell_type": "code",
   "execution_count": 181,
   "id": "03509cec",
   "metadata": {},
   "outputs": [
    {
     "data": {
      "text/plain": [
       "count    2740.000000\n",
       "mean       10.631022\n",
       "std         9.745052\n",
       "min         1.000000\n",
       "25%         3.000000\n",
       "50%         8.000000\n",
       "75%        15.000000\n",
       "max        66.000000\n",
       "Name: PrecinctVotes, dtype: float64"
      ]
     },
     "execution_count": 181,
     "metadata": {},
     "output_type": "execute_result"
    }
   ],
   "source": [
    "df_votes = df[df['PrecinctVotes'] > 0]\n",
    "df_votes['PrecinctVotes'].describe()"
   ]
  },
  {
   "cell_type": "code",
   "execution_count": 183,
   "id": "576a5220",
   "metadata": {},
   "outputs": [
    {
     "data": {
      "text/plain": [
       "<Axes: ylabel='PrecinctVotes'>"
      ]
     },
     "execution_count": 183,
     "metadata": {},
     "output_type": "execute_result"
    },
    {
     "data": {
      "image/png": "[encoded data removed]",
      "text/plain": [
       "<Figure size 640x480 with 1 Axes>"
      ]
     },
     "metadata": {},
     "output_type": "display_data"
    }
   ],
   "source": [
    "sns.boxplot(df_votes['PrecinctVotes'])"
   ]
  }
 ],
 "metadata": {
  "language_info": {
   "name": "python"
  }
 },
 "nbformat": 4,
 "nbformat_minor": 5
}

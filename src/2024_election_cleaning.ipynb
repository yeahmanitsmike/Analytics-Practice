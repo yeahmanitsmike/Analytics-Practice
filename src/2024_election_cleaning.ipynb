{
 "cells": [
  {
   "cell_type": "code",
   "execution_count": 2,
   "id": "ca203275",
   "metadata": {},
   "outputs": [],
   "source": [
    "import pandas as pd\n",
    "import os \n",
    "\n",
    "root_dir = \"D:\\\\Home\\\\Documents\\\\Data Analysis Projects\\\\Analytics-Practice\\\\data\\\\\"\n",
    "in_file = \"2024_election.csv\"\n",
    "\n",
    "file_path = os.path.join(root_dir, in_file)\n",
    "\n",
    "df = pd.read_csv(file_path)"
   ]
  },
  {
   "cell_type": "code",
   "execution_count": 5,
   "id": "6d418a7a",
   "metadata": {},
   "outputs": [
    {
     "data": {
      "text/plain": [
       "Index(['ContestKey', 'ContestText', 'ContestVoteFor', 'ContestIsQuestion',\n",
       "       'ContestPrecinctsReporting', 'ContestPrecinctsReported', 'Choice',\n",
       "       'VoteTypeName', 'VoteTypeTotalVotes', 'PrecinctName', 'PrecinctVotes'],\n",
       "      dtype='object')"
      ]
     },
     "execution_count": 5,
     "metadata": {},
     "output_type": "execute_result"
    }
   ],
   "source": [
    "df.columns"
   ]
  },
  {
   "cell_type": "code",
   "execution_count": 4,
   "id": "51f46430",
   "metadata": {},
   "outputs": [],
   "source": [
    "df.drop(['Unnamed: 0'], axis=1, inplace=True)"
   ]
  },
  {
   "cell_type": "code",
   "execution_count": 19,
   "id": "60056187",
   "metadata": {},
   "outputs": [
    {
     "data": {
      "text/plain": [
       "array([nan, '(CHASE OLIVER (MIKE TER MAAT', 'YES', 'NO',\n",
       "       '(KAMALA D. HARRIS(TIM WALZ', '(DONALD J. TRUMP(JD VANCE',\n",
       "       '(ROBERT F. KENNEDY JR.(NICOLE SHANAHAN',\n",
       "       '(CORNEL WEST (MELINA ABDULLAH', '(JILL STEIN (RUNDOLPH WARE',\n",
       "       'ANDRE RAMON McNEIL SR.', 'BRIAN LARRY KIENITZ', 'CHERUNDA FOX',\n",
       "       'CLAUDIA DE LA CRUZ', 'DAVID J NASH', 'GARRY HUBBARD',\n",
       "       'GORDON HLAVENKA', 'JOHN P. ALBERS', 'KEVIN McKEE', 'PETER SONSKI',\n",
       "       'RICHARD MAYERS', 'SHIVA AYYADURAI', 'SHONDRA IRVING',\n",
       "       'SUSAN MAUDA BUCHSER', 'DELIA RAMIREZ', 'JOHN BOORAS',\n",
       "       'ANGEL OAKLEY', 'JESUS \"CHUY\" GARCIA', 'LUPE CASTILLO',\n",
       "       'ED HERSHEY', 'ALICIA MARTINEZ', 'SEAN CASTEN', 'NIKI CONFORTI',\n",
       "       'PETER J. MEYER, JR.', 'RAJA KRISHNAMOORTHI', 'MARK RICE',\n",
       "       'BILL FOSTER', 'JERRY EVANS', 'ANNA SCHIEFELBEIN',\n",
       "       'KIMBERLY A. LIGHTFORD', 'ROBERT SUMRELL JR.', 'KARINA VILLA',\n",
       "       'HEATHER BROWN', 'LAURA M. MURPHY', 'NO CANDIDATE/CANDIDATO',\n",
       "       'RACHEL VENTURA', 'JENNIFER \"JEN\" MONSON', 'EMANUEL \"CHRIS\" WELCH',\n",
       "       'JANET YANG ROHR', 'TERRA COSTA HOWARD', 'AMAR PATEL',\n",
       "       'MARTHA \"MARTI\" DEUTER', 'DENNIS M. REBOLETTI',\n",
       "       'DIANE BLAIR-SHERLOCK', 'ROBERT \"RUSTY\" STEVENS',\n",
       "       'JACKIE WILLIAMSON', 'AMY L. GRANT', 'MARIA C. VESEY',\n",
       "       'JENNIFER SANALITRO', 'MAURA HIRSCHAUER', 'HANNAH BILLINGSLEY',\n",
       "       'BARBARA HERNANDEZ', 'TERESA L. ALEXANDER', 'MICHELLE MUSSMAN',\n",
       "       'LINDA R ROBERTSON', 'DAN UGASTE', 'NORMA HERNANDEZ',\n",
       "       'ANTHONY AIRDO', 'ANNE STAVA-MURRAY', 'AARON PORTER',\n",
       "       'SUZANNE AKHRAS', 'NICOLE LA HA', 'STEPHANIE A. KIFOWIT',\n",
       "       'DAGMARA \"DEE\" AVELAR', 'CHRIS METCALFE', 'ROBERT \"BOB\" BERLIN',\n",
       "       'CANDICE ADAMS', 'JEREMY \"JAYE\" WANG', 'WILLIAM \"BILL\" WHITE',\n",
       "       'BOB GROGAN', 'JUDITH LUKAS', 'RICHARD JORGENSEN',\n",
       "       'ELIZABETH (LIZ) CHAPLIN', 'NICOLE PRATER', 'MARIA SINKULE',\n",
       "       'CINDY CRONIN CAHILL', 'ANDREW HONIG', 'LAURA HOIS',\n",
       "       'LUCY CHANG EVANS', 'BARON LEACOCK', 'LYNN LaPLANTE',\n",
       "       'ANNETTE CORRIGAN', 'SABA HAIDER', 'PATRICIA \"PATTY\" GUSTIN',\n",
       "       'GREG SCHWARZE', 'JOE SOTO', 'LESTER VAUGHAN', 'LINDA J. PAINTER',\n",
       "       'JEFF GAHRIS', 'JEFF CASTLE', 'RICK GIESER', 'AL MURPHY',\n",
       "       'JOHN ANDERSON', 'KENTON SKARIN', 'LINDA DAVENPORT',\n",
       "       'JASON HELLAND', 'LANCE PETERSON', 'JOHN F. COSTELLO, JR.',\n",
       "       'LEAH DANIELLE SETZEN', 'HOPE F. MERCADO', 'JENNIFER BARRON',\n",
       "       'JAE KWON', 'CHANTELLE PORTER', 'MARSHALL J. SUBACH'], dtype=object)"
      ]
     },
     "execution_count": 19,
     "metadata": {},
     "output_type": "execute_result"
    }
   ],
   "source": [
    "df['Choice'].unique()"
   ]
  },
  {
   "cell_type": "code",
   "execution_count": 10,
   "id": "1acd352b",
   "metadata": {},
   "outputs": [],
   "source": [
    "def problem_rows(text: str, find_char=['\\r','\\n']) -> bool:\n",
    "        if isinstance(text, str):\n",
    "            result = [item in text for item in find_char]\n",
    "            if True in result:\n",
    "                  return True\n",
    "            else:\n",
    "                  return False\n",
    "        else:\n",
    "              return False\n",
    "        "
   ]
  },
  {
   "cell_type": "code",
   "execution_count": 15,
   "id": "3a3eff2a",
   "metadata": {},
   "outputs": [
    {
     "name": "stdout",
     "output_type": "stream",
     "text": [
      "Empty DataFrame\n",
      "Columns: [ContestKey, ContestText, ContestVoteFor, ContestIsQuestion, ContestPrecinctsReporting, ContestPrecinctsReported, Choice, VoteTypeName, VoteTypeTotalVotes, PrecinctName, PrecinctVotes]\n",
      "Index: []\n"
     ]
    }
   ],
   "source": [
    "problem_childs = df[df['Choice'].apply(problem_rows)]\n",
    "print(problem_childs)"
   ]
  },
  {
   "cell_type": "code",
   "execution_count": 14,
   "id": "6bfbe5f8",
   "metadata": {},
   "outputs": [],
   "source": [
    "df['Choice'] = df['Choice'].str.replace(r'\\r', '', regex=True)\n",
    "df['Choice'] = df['Choice'].str.replace(r'\\n', '', regex=True)"
   ]
  },
  {
   "cell_type": "code",
   "execution_count": 16,
   "id": "f48c36cf",
   "metadata": {},
   "outputs": [
    {
     "name": "stdout",
     "output_type": "stream",
     "text": [
      "Empty DataFrame\n",
      "Columns: [ContestKey, ContestText, ContestVoteFor, ContestIsQuestion, ContestPrecinctsReporting, ContestPrecinctsReported, Choice, VoteTypeName, VoteTypeTotalVotes, PrecinctName, PrecinctVotes]\n",
      "Index: []\n"
     ]
    }
   ],
   "source": [
    "problem_childs = df[df['Choice'].apply(problem_rows)]\n",
    "print(problem_childs)"
   ]
  },
  {
   "cell_type": "code",
   "execution_count": 6,
   "id": "7eb0a244",
   "metadata": {},
   "outputs": [],
   "source": [
    "df.to_csv(file_path, index=False)"
   ]
  }
 ],
 "metadata": {
  "kernelspec": {
   "display_name": ".venv",
   "language": "python",
   "name": "python3"
  },
  "language_info": {
   "codemirror_mode": {
    "name": "ipython",
    "version": 3
   },
   "file_extension": ".py",
   "mimetype": "text/x-python",
   "name": "python",
   "nbconvert_exporter": "python",
   "pygments_lexer": "ipython3",
   "version": "3.12.10"
  }
 },
 "nbformat": 4,
 "nbformat_minor": 5
}
